{
 "cells": [
  {
   "cell_type": "code",
   "execution_count": 0,
   "metadata": {
    "colab": {},
    "colab_type": "code",
    "id": "VlJe0CC7QbpI"
   },
   "outputs": [],
   "source": [
    "####### Imports\n",
    "import pandas as pd\n",
    "import numpy as np\n",
    "import tensorflow as tf\n",
    "from keras.models import load_model\n",
    "from keras.preprocessing.text import Tokenizer\n",
    "from keras.preprocessing.sequence import pad_sequences\n",
    "import pickle\n",
    "import nltk\n",
    "from nltk.tokenize import word_tokenize \n",
    "from nltk.stem import WordNetLemmatizer\n",
    "from string import punctuation\n",
    "from nltk.corpus import stopwords\n",
    "import warnings\n",
    "warnings.filterwarnings('ignore')\n",
    "\n",
    "\n",
    "####### downloads\n",
    "\n",
    "#nltk.download('stopwords')\n",
    "#nltk.download('punkt')\n",
    "#nltk.download('wordnet')"
   ]
  },
  {
   "cell_type": "code",
   "execution_count": 0,
   "metadata": {
    "colab": {},
    "colab_type": "code",
    "id": "C-I9wKVMQbpT"
   },
   "outputs": [],
   "source": [
    "######### loading tokenizer\n",
    "with open('tokenizer.pickle','rb') as handle:\n",
    "    tokenizer=pickle.load(handle)\n",
    "\n",
    "\n",
    "\n",
    "######### Loading model\n",
    "save=load_model('wts.h5')"
   ]
  },
  {
   "cell_type": "code",
   "execution_count": 0,
   "metadata": {
    "colab": {},
    "colab_type": "code",
    "id": "vFElPn-6Qbpe"
   },
   "outputs": [],
   "source": [
    "## Language processing\n",
    "lemm = WordNetLemmatizer()\n",
    "stop_nltk = stopwords.words(\"english\")\n",
    "stop_updated = stop_nltk + list(punctuation)\n",
    "\n",
    "\n",
    "\n",
    "\n",
    "\n",
    "############## Text cleaning function\n",
    "\n",
    "def  clean_txt(sent):\n",
    "    tokens = word_tokenize(sent.lower().replace('[^a-z ]',' '))\n",
    "    stemmed = [lemm.lemmatize(term) for term in tokens \n",
    "               if term not in stop_updated and len(term) > 2] \n",
    "    res = \" \".join(stemmed)\n",
    "    return res\n",
    "\n",
    "\n",
    "\n",
    "\n",
    "############## Function for Predicting output classes\n",
    "def output(txt_values):\n",
    "    \n",
    "    clean = [ ]\n",
    "    for i in txt_values:\n",
    "        clean.append(clean_txt(i))\n",
    "    \n",
    "    seq=tokenizer.texts_to_sequences(clean)\n",
    "    padded=pad_sequences(seq,maxlen=200)\n",
    "    pred=save.predict(padded)\n",
    "    pred = np.round(pred)\n",
    "    return (pred, txt_values)\n",
    "\n",
    "\n",
    "\n",
    "\n",
    "############### Printing prediction\n",
    "\n",
    "def message(prediction):\n",
    "    pred, txt_values = prediction\n",
    "    toxicity = ['Toxic','Severe_Toxic','Obscene','Threat','Insult','Identity_Hate']\n",
    "    for i, comment in zip(pred, txt_values):\n",
    "        print ('\\n')\n",
    "        print (comment)\n",
    "        if i.any() == 0:\n",
    "            print ('➤ Comment is Neutral')\n",
    "        else:\n",
    "            for j, k in zip(i, toxicity) :\n",
    "                if j == 1:\n",
    "                    print ('➤ Comment is',k)\n",
    "                else:\n",
    "                    pass"
   ]
  },
  {
   "cell_type": "code",
   "execution_count": 0,
   "metadata": {
    "colab": {},
    "colab_type": "code",
    "id": "BjektViHQbpm"
   },
   "outputs": [],
   "source": [
    "###### Preparing Data for Predictions\n",
    "\n",
    "test_comments = [\"Never trust Udemy. It is the most pathetic, unworthy and untrustful site.\",\"When seeing all over the experience with Udemy is too bad and I never recommend anyone to go for udemy. Type of YouTube channels are better than udemy.. At least you can save your money.\",\"Many of my coworkers choose to use Udemy for continuing education. I feel it has the best selection, training and curriculum vs others I have tried. Yes, the courses may be longer than others, but they're more detailed.\",\"This bar sucks plain and simple. Dominated by hipster retro people that can not be talked to unless you know know Morrissey's new album. Pabst always a great price shit bartenders who will ignore you and make drinks like they know what they are doing. This place is great for any 20 something year old trying to fit in haha garbage place. Oh do not forget the sexist 5 dollar make charge lol get fucked\",\"An extremely helpful and informative course, especially in conjuction with multi-modal training. Training materials were well organized and provided good case studies. Instructor was extremely professional and pleasant to learn from. Dawn did an exceptional job presenting the material. She set up by explaining what she was going to teach us, summarized, and proceeded to teach, providing relevant real life examples. She found out what we handled and catered examples to us to make the course meaningful. I am a CHMM and have taken many similar courses - this was very well done, which I attribute primarily to the instructor and secondarily to the quality materials.\"]\n",
    "\n",
    "\n",
    "\n",
    "\n",
    "#test_df = pd.DataFrame(data=test_comments, columns=['Test Comments'])\n",
    "#test_df['Clean_test_comm'] = test_df['Test Comments'].apply(clean_txt)\n",
    "#test=test_df['Clean_test_comm'].values"
   ]
  },
  {
   "cell_type": "code",
   "execution_count": 0,
   "metadata": {
    "colab": {
     "base_uri": "https://localhost:8080/",
     "height": 386
    },
    "colab_type": "code",
    "executionInfo": {
     "elapsed": 919,
     "status": "ok",
     "timestamp": 1586803499641,
     "user": {
      "displayName": "Gaurav Padawe",
      "photoUrl": "https://lh3.googleusercontent.com/a-/AOh14GjGvHgIVpzMhiCalwgTAtNEm2nMQGFJucL_wzNtHkg=s64",
      "userId": "13042361189989421486"
     },
     "user_tz": -330
    },
    "id": "l9DL3vlvfp6Y",
    "outputId": "659d6d37-54bc-4d76-a015-3e5e9238f40a"
   },
   "outputs": [
    {
     "name": "stdout",
     "output_type": "stream",
     "text": [
      "\n",
      "\n",
      "Never trust Udemy. It is the most pathetic, unworthy and untrustful site.\n",
      "➤ Comment is Toxic\n",
      "\n",
      "\n",
      "When seeing all over the experience with Udemy is too bad and I never recommend anyone to go for udemy. Type of YouTube channels are better than udemy.. At least you can save your money.\n",
      "➤ Comment is Neutral\n",
      "\n",
      "\n",
      "Many of my coworkers choose to use Udemy for continuing education. I feel it has the best selection, training and curriculum vs others I have tried. Yes, the courses may be longer than others, but they're more detailed.\n",
      "➤ Comment is Neutral\n",
      "\n",
      "\n",
      "This bar sucks plain and simple. Dominated by hipster retro people that can not be talked to unless you know know Morrissey's new album. Pabst always a great price shit bartenders who will ignore you and make drinks like they know what they are doing. This place is great for any 20 something year old trying to fit in haha garbage place. Oh do not forget the sexist 5 dollar make charge lol get fucked\n",
      "➤ Comment is Toxic\n",
      "➤ Comment is Obscene\n",
      "\n",
      "\n",
      "An extremely helpful and informative course, especially in conjuction with multi-modal training. Training materials were well organized and provided good case studies. Instructor was extremely professional and pleasant to learn from. Dawn did an exceptional job presenting the material. She set up by explaining what she was going to teach us, summarized, and proceeded to teach, providing relevant real life examples. She found out what we handled and catered examples to us to make the course meaningful. I am a CHMM and have taken many similar courses - this was very well done, which I attribute primarily to the instructor and secondarily to the quality materials.\n",
      "➤ Comment is Neutral\n"
     ]
    }
   ],
   "source": [
    "#### Final\n",
    "message(output(test_comments))"
   ]
  },
  {
   "cell_type": "code",
   "execution_count": 0,
   "metadata": {
    "colab": {
     "base_uri": "https://localhost:8080/",
     "height": 53
    },
    "colab_type": "code",
    "executionInfo": {
     "elapsed": 951,
     "status": "ok",
     "timestamp": 1586803101272,
     "user": {
      "displayName": "Gaurav Padawe",
      "photoUrl": "https://lh3.googleusercontent.com/a-/AOh14GjGvHgIVpzMhiCalwgTAtNEm2nMQGFJucL_wzNtHkg=s64",
      "userId": "13042361189989421486"
     },
     "user_tz": -330
    },
    "id": "icIiwS2uQbp_",
    "outputId": "f4a97f95-6a83-4101-fab2-3512eb3b3b8a"
   },
   "outputs": [
    {
     "data": {
      "text/plain": [
       "\"\\n# Toxic Labels\\n\\nlabels=['toxic', 'severe_toxic', 'obscene', 'threat', 'insult', 'identity_hate']\\n\\n# Final DataFrame with Labels and Predictions\\n\\nresult=pd.concat([test_df,pd.DataFrame(data=output(test),columns=labels)],axis=1)\\nresult.iloc[:,1:]\\n\""
      ]
     },
     "execution_count": 122,
     "metadata": {
      "tags": []
     },
     "output_type": "execute_result"
    }
   ],
   "source": [
    "'''\n",
    "# Toxic Labels\n",
    "\n",
    "labels=['toxic', 'severe_toxic', 'obscene', 'threat', 'insult', 'identity_hate']\n",
    "\n",
    "# Final DataFrame with Labels and Predictions\n",
    "\n",
    "result=pd.concat([test_df,pd.DataFrame(data=output(test),columns=labels)],axis=1)\n",
    "result.iloc[:,1:]\n",
    "'''"
   ]
  },
  {
   "cell_type": "code",
   "execution_count": 0,
   "metadata": {
    "colab": {},
    "colab_type": "code",
    "id": "gmW1cEyYQbqN"
   },
   "outputs": [],
   "source": []
  }
 ],
 "metadata": {
  "colab": {
   "collapsed_sections": [],
   "name": "restoring_modified.ipynb",
   "provenance": []
  },
  "kernelspec": {
   "display_name": "Python 3",
   "language": "python",
   "name": "python3"
  },
  "language_info": {
   "codemirror_mode": {
    "name": "ipython",
    "version": 3
   },
   "file_extension": ".py",
   "mimetype": "text/x-python",
   "name": "python",
   "nbconvert_exporter": "python",
   "pygments_lexer": "ipython3",
   "version": "3.7.3"
  }
 },
 "nbformat": 4,
 "nbformat_minor": 0
}
